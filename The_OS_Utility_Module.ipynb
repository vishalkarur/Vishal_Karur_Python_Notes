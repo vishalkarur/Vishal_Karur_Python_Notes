{
 "cells": [
  {
   "cell_type": "code",
   "execution_count": 60,
   "metadata": {},
   "outputs": [],
   "source": [
    "with open ('myfile2.txt',mode='a') as f:\n",
    "    f.write(\"\\t i just added it to the second line \")"
   ]
  },
  {
   "cell_type": "code",
   "execution_count": 61,
   "metadata": {},
   "outputs": [
    {
     "name": "stdout",
     "output_type": "stream",
     "text": [
      "\t i just added it to the second line \n"
     ]
    }
   ],
   "source": [
    "with open ('myfile2.txt',mode='r') as f:\n",
    "    print(f.read())"
   ]
  },
  {
   "cell_type": "code",
   "execution_count": 62,
   "metadata": {},
   "outputs": [
    {
     "data": {
      "text/plain": [
       "'c:\\\\Users\\\\visha\\\\My_Python_Stuff'"
      ]
     },
     "execution_count": 62,
     "metadata": {},
     "output_type": "execute_result"
    }
   ],
   "source": [
    "pwd"
   ]
  },
  {
   "cell_type": "code",
   "execution_count": 63,
   "metadata": {},
   "outputs": [],
   "source": [
    "f = open(\"sample.txt\",mode='w+') "
   ]
  },
  {
   "cell_type": "code",
   "execution_count": 64,
   "metadata": {},
   "outputs": [
    {
     "data": {
      "text/plain": [
       "49"
      ]
     },
     "execution_count": 64,
     "metadata": {},
     "output_type": "execute_result"
    }
   ],
   "source": [
    "f.write(\" i have just written first line from jupyter book\")"
   ]
  },
  {
   "cell_type": "code",
   "execution_count": 65,
   "metadata": {},
   "outputs": [
    {
     "name": "stdout",
     "output_type": "stream",
     "text": [
      "\n"
     ]
    }
   ],
   "source": [
    "with open (\"sample.txt\",mode='r') as w:\n",
    "    print(w.read())"
   ]
  },
  {
   "cell_type": "code",
   "execution_count": 66,
   "metadata": {},
   "outputs": [],
   "source": [
    "import os"
   ]
  },
  {
   "cell_type": "code",
   "execution_count": 67,
   "metadata": {},
   "outputs": [
    {
     "data": {
      "text/plain": [
       "'c:\\\\Users\\\\visha\\\\My_Python_Stuff'"
      ]
     },
     "execution_count": 67,
     "metadata": {},
     "output_type": "execute_result"
    }
   ],
   "source": [
    "os.getcwd()"
   ]
  },
  {
   "cell_type": "code",
   "execution_count": 68,
   "metadata": {},
   "outputs": [
    {
     "data": {
      "text/plain": [
       "['.ipynb_checkpoints',\n",
       " 'Bank_Account.ipynb',\n",
       " 'Card_game.ipynb',\n",
       " 'Collections_Notes.ipynb',\n",
       " 'data.csv',\n",
       " 'Decorator2.ipynb',\n",
       " 'Decorators.ipynb',\n",
       " 'Decorators.py',\n",
       " 'dog_class_example.py',\n",
       " 'DunderMethods.ipynb',\n",
       " 'ex.ipynb',\n",
       " 'Example_Top_Level',\n",
       " 'Fibonacci_Geneartor.ipynb',\n",
       " 'Fibo_Gen.ipynb',\n",
       " 'Generator.ipynb',\n",
       " 'Generator.py',\n",
       " 'Home_Work.ipynb',\n",
       " 'Inheritance.ipynb',\n",
       " 'MileStone_Project_1.ipynb',\n",
       " 'module1.ipynb',\n",
       " 'Modules_Packages.ipynb',\n",
       " 'my.txt',\n",
       " 'myfile.txt.txt',\n",
       " 'myfile2.txt',\n",
       " 'My_Python_Stuff.ipynb',\n",
       " 'Oops.ipynb',\n",
       " 'pd.ipynb',\n",
       " 'Polymorphism.ipynb',\n",
       " 'pyli.py',\n",
       " 'recur.ipynb',\n",
       " 'recur.py',\n",
       " 's.py',\n",
       " 'sample.py',\n",
       " 'sample.txt',\n",
       " 'test.ipynb',\n",
       " 'test.py',\n",
       " 'test1.ipynb',\n",
       " 'test2.py',\n",
       " 'testfile',\n",
       " 'The_OS_Utility_Module.ipynb',\n",
       " 'Tic_Tac_Toe.ipynb',\n",
       " 'Untitled.ipynb',\n",
       " 'Untitled1.ipynb',\n",
       " 'Untitled2.ipynb']"
      ]
     },
     "execution_count": 68,
     "metadata": {},
     "output_type": "execute_result"
    }
   ],
   "source": [
    "os.listdir()"
   ]
  },
  {
   "cell_type": "code",
   "execution_count": 69,
   "metadata": {},
   "outputs": [
    {
     "data": {
      "text/plain": [
       "['.android',\n",
       " '.idlerc',\n",
       " '.ipython',\n",
       " '.jdks',\n",
       " '.matplotlib',\n",
       " '.vscode',\n",
       " '3D Objects',\n",
       " 'AppData',\n",
       " 'Application Data',\n",
       " 'Contacts',\n",
       " 'Cookies',\n",
       " 'Documents',\n",
       " 'Downloads',\n",
       " 'Favorites',\n",
       " 'IntelGraphicsProfiles',\n",
       " 'Links',\n",
       " 'Local Settings',\n",
       " 'Music',\n",
       " 'My Documents',\n",
       " 'My_Python_Stuff',\n",
       " 'NetHood',\n",
       " 'NTUSER.DAT',\n",
       " 'ntuser.dat.LOG1',\n",
       " 'ntuser.dat.LOG2',\n",
       " 'NTUSER.DAT{58dd9be8-6d6e-11ec-b965-548ca0d1a450}.TxR.0.regtrans-ms',\n",
       " 'NTUSER.DAT{58dd9be8-6d6e-11ec-b965-548ca0d1a450}.TxR.1.regtrans-ms',\n",
       " 'NTUSER.DAT{58dd9be8-6d6e-11ec-b965-548ca0d1a450}.TxR.2.regtrans-ms',\n",
       " 'NTUSER.DAT{58dd9be8-6d6e-11ec-b965-548ca0d1a450}.TxR.blf',\n",
       " 'NTUSER.DAT{58dd9be9-6d6e-11ec-b965-548ca0d1a450}.TM.blf',\n",
       " 'NTUSER.DAT{58dd9be9-6d6e-11ec-b965-548ca0d1a450}.TMContainer00000000000000000001.regtrans-ms',\n",
       " 'NTUSER.DAT{58dd9be9-6d6e-11ec-b965-548ca0d1a450}.TMContainer00000000000000000002.regtrans-ms',\n",
       " 'NTUSER.DAT{950c0617-e7c8-11eb-b6ec-cf1c8e443f56}.TxR.0.regtrans-ms',\n",
       " 'NTUSER.DAT{950c0617-e7c8-11eb-b6ec-cf1c8e443f56}.TxR.1.regtrans-ms',\n",
       " 'NTUSER.DAT{950c0617-e7c8-11eb-b6ec-cf1c8e443f56}.TxR.2.regtrans-ms',\n",
       " 'NTUSER.DAT{950c0617-e7c8-11eb-b6ec-cf1c8e443f56}.TxR.blf',\n",
       " 'NTUSER.DAT{950c0618-e7c8-11eb-b6ec-cf1c8e443f56}.TM.blf',\n",
       " 'NTUSER.DAT{950c0618-e7c8-11eb-b6ec-cf1c8e443f56}.TMContainer00000000000000000001.regtrans-ms',\n",
       " 'NTUSER.DAT{950c0618-e7c8-11eb-b6ec-cf1c8e443f56}.TMContainer00000000000000000002.regtrans-ms',\n",
       " 'ntuser.ini',\n",
       " 'OneDrive',\n",
       " 'PrintHood',\n",
       " 'Recent',\n",
       " 'sample.txt',\n",
       " 'Saved Games',\n",
       " 'Searches',\n",
       " 'SendTo',\n",
       " 'Start Menu',\n",
       " 'Templates',\n",
       " 'Videos']"
      ]
     },
     "execution_count": 69,
     "metadata": {},
     "output_type": "execute_result"
    }
   ],
   "source": [
    "os.listdir('C:\\\\Users\\\\visha')"
   ]
  },
  {
   "cell_type": "code",
   "execution_count": 70,
   "metadata": {},
   "outputs": [],
   "source": [
    "import shutil"
   ]
  },
  {
   "cell_type": "code",
   "execution_count": 71,
   "metadata": {},
   "outputs": [
    {
     "data": {
      "text/plain": [
       "'C:\\\\Users\\\\visha\\\\myfile2.txt'"
      ]
     },
     "execution_count": 71,
     "metadata": {},
     "output_type": "execute_result"
    }
   ],
   "source": [
    "shutil.move('myfile2.txt','C:\\\\Users\\\\visha')"
   ]
  },
  {
   "cell_type": "code",
   "execution_count": 72,
   "metadata": {},
   "outputs": [
    {
     "ename": "Error",
     "evalue": "Destination path 'D:\\Desktop\\myfile2.txt' already exists",
     "output_type": "error",
     "traceback": [
      "\u001b[1;31m---------------------------------------------------------------------------\u001b[0m",
      "\u001b[1;31mError\u001b[0m                                     Traceback (most recent call last)",
      "\u001b[1;32mc:\\Users\\visha\\My_Python_Stuff\\The_OS_Utility_Module.ipynb Cell 13'\u001b[0m in \u001b[0;36m<cell line: 1>\u001b[1;34m()\u001b[0m\n\u001b[1;32m----> <a href='vscode-notebook-cell:/c%3A/Users/visha/My_Python_Stuff/The_OS_Utility_Module.ipynb#ch0000013?line=0'>1</a>\u001b[0m shutil\u001b[39m.\u001b[39;49mmove(\u001b[39m'\u001b[39;49m\u001b[39mC:\u001b[39;49m\u001b[39m\\\\\u001b[39;49;00m\u001b[39mUsers\u001b[39;49m\u001b[39m\\\\\u001b[39;49;00m\u001b[39mvisha\u001b[39;49m\u001b[39m\\\\\u001b[39;49;00m\u001b[39mmyfile2.txt\u001b[39;49m\u001b[39m'\u001b[39;49m,\u001b[39m'\u001b[39;49m\u001b[39mD:\u001b[39;49m\u001b[39m\\\\\u001b[39;49;00m\u001b[39mDesktop\u001b[39;49m\u001b[39m'\u001b[39;49m)\n",
      "File \u001b[1;32mC:\\Program Files\\Python310\\lib\\shutil.py:811\u001b[0m, in \u001b[0;36mmove\u001b[1;34m(src, dst, copy_function)\u001b[0m\n\u001b[0;32m    <a href='file:///c%3A/Program%20Files/Python310/lib/shutil.py?line=807'>808</a>\u001b[0m     real_dst \u001b[39m=\u001b[39m os\u001b[39m.\u001b[39mpath\u001b[39m.\u001b[39mjoin(dst, _basename(src))\n\u001b[0;32m    <a href='file:///c%3A/Program%20Files/Python310/lib/shutil.py?line=809'>810</a>\u001b[0m     \u001b[39mif\u001b[39;00m os\u001b[39m.\u001b[39mpath\u001b[39m.\u001b[39mexists(real_dst):\n\u001b[1;32m--> <a href='file:///c%3A/Program%20Files/Python310/lib/shutil.py?line=810'>811</a>\u001b[0m         \u001b[39mraise\u001b[39;00m Error(\u001b[39m\"\u001b[39m\u001b[39mDestination path \u001b[39m\u001b[39m'\u001b[39m\u001b[39m%s\u001b[39;00m\u001b[39m'\u001b[39m\u001b[39m already exists\u001b[39m\u001b[39m\"\u001b[39m \u001b[39m%\u001b[39m real_dst)\n\u001b[0;32m    <a href='file:///c%3A/Program%20Files/Python310/lib/shutil.py?line=811'>812</a>\u001b[0m \u001b[39mtry\u001b[39;00m:\n\u001b[0;32m    <a href='file:///c%3A/Program%20Files/Python310/lib/shutil.py?line=812'>813</a>\u001b[0m     os\u001b[39m.\u001b[39mrename(src, real_dst)\n",
      "\u001b[1;31mError\u001b[0m: Destination path 'D:\\Desktop\\myfile2.txt' already exists"
     ]
    }
   ],
   "source": [
    "shutil.move('C:\\\\Users\\\\visha\\\\myfile2.txt','D:\\\\Desktop')"
   ]
  },
  {
   "cell_type": "code",
   "execution_count": null,
   "metadata": {},
   "outputs": [],
   "source": [
    "import send2trash"
   ]
  },
  {
   "cell_type": "code",
   "execution_count": null,
   "metadata": {},
   "outputs": [
    {
     "data": {
      "text/plain": [
       "['.ipynb_checkpoints',\n",
       " 'Bank_Account.ipynb',\n",
       " 'Card_game.ipynb',\n",
       " 'Collections_Notes.ipynb',\n",
       " 'data.csv',\n",
       " 'Decorator2.ipynb',\n",
       " 'Decorators.ipynb',\n",
       " 'Decorators.py',\n",
       " 'dog_class_example.py',\n",
       " 'DunderMethods.ipynb',\n",
       " 'ex.ipynb',\n",
       " 'Fibonacci_Geneartor.ipynb',\n",
       " 'Fibo_Gen.ipynb',\n",
       " 'Generator.ipynb',\n",
       " 'Generator.py',\n",
       " 'Home_Work.ipynb',\n",
       " 'Inheritance.ipynb',\n",
       " 'MileStone_Project_1.ipynb',\n",
       " 'module1.ipynb',\n",
       " 'Modules_Packages.ipynb',\n",
       " 'my.txt',\n",
       " 'myfile.txt.txt',\n",
       " 'My_Python_Stuff.ipynb',\n",
       " 'Oops.ipynb',\n",
       " 'pd.ipynb',\n",
       " 'Polymorphism.ipynb',\n",
       " 'pyli.py',\n",
       " 'recur.ipynb',\n",
       " 'recur.py',\n",
       " 's.py',\n",
       " 'sample.py',\n",
       " 'sample.txt',\n",
       " 'test.ipynb',\n",
       " 'test.py',\n",
       " 'test1.ipynb',\n",
       " 'test2.py',\n",
       " 'testfile',\n",
       " 'The_OS_Utility_Module.ipynb',\n",
       " 'Tic_Tac_Toe.ipynb',\n",
       " 'Untitled.ipynb',\n",
       " 'Untitled1.ipynb',\n",
       " 'Untitled2.ipynb']"
      ]
     },
     "execution_count": 43,
     "metadata": {},
     "output_type": "execute_result"
    }
   ],
   "source": [
    "os.listdir()"
   ]
  },
  {
   "cell_type": "code",
   "execution_count": null,
   "metadata": {},
   "outputs": [],
   "source": [
    "folder_path = 'C:\\\\Users\\\\visha\\My_Python_Stuff\\\\Example_Top_Level'\n"
   ]
  },
  {
   "cell_type": "code",
   "execution_count": null,
   "metadata": {},
   "outputs": [
    {
     "name": "stdout",
     "output_type": "stream",
     "text": [
      "current folder is C:\\Users\\visha\\My_Python_Stuff\\Example_Top_Level\n",
      "\n",
      "subfolders are \n",
      "these are the sub_folder1\n",
      "these are the sub_folder2\n",
      "files are \n",
      "\n",
      "the files are sample1.txt\n",
      "\n",
      "the files are sample_excel.xlsx\n",
      "\n",
      "current folder is C:\\Users\\visha\\My_Python_Stuff\\Example_Top_Level\\sub_folder1\n",
      "\n",
      "subfolders are \n",
      "these are the hi\n",
      "files are \n",
      "\n",
      "the files are fileinsubfolder1.txt\n",
      "\n",
      "current folder is C:\\Users\\visha\\My_Python_Stuff\\Example_Top_Level\\sub_folder1\\hi\n",
      "\n",
      "subfolders are \n",
      "files are \n",
      "\n",
      "current folder is C:\\Users\\visha\\My_Python_Stuff\\Example_Top_Level\\sub_folder2\n",
      "\n",
      "subfolders are \n",
      "files are \n",
      "\n",
      "the files are fileinsubfolder2.txt\n",
      "\n"
     ]
    }
   ],
   "source": [
    "for folder , subfolders , files in os.walk(folder_path):\n",
    "    print(f\"current folder is {folder}\\n\")\n",
    "    print(\"subfolders are \")\n",
    "    for subfolder in subfolders:\n",
    "        print(f\"these are the {subfolder}\")\n",
    "    print(\"files are \\n\")\n",
    "    for file in files:\n",
    "        print(f\"the files are {file}\\n\")"
   ]
  },
  {
   "cell_type": "code",
   "execution_count": null,
   "metadata": {},
   "outputs": [],
   "source": []
  }
 ],
 "metadata": {
  "interpreter": {
   "hash": "b89b5cfaba6639976dc87ff2fec6d58faec662063367e2c229c520fe71072417"
  },
  "kernelspec": {
   "display_name": "Python 3.10.4 64-bit",
   "language": "python",
   "name": "python3"
  },
  "language_info": {
   "codemirror_mode": {
    "name": "ipython",
    "version": 3
   },
   "file_extension": ".py",
   "mimetype": "text/x-python",
   "name": "python",
   "nbconvert_exporter": "python",
   "pygments_lexer": "ipython3",
   "version": "3.10.4"
  },
  "orig_nbformat": 4
 },
 "nbformat": 4,
 "nbformat_minor": 2
}
