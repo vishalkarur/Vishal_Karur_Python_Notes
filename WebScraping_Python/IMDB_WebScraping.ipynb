{
 "cells": [
  {
   "cell_type": "code",
   "execution_count": 6,
   "metadata": {},
   "outputs": [],
   "source": [
    "from bs4 import BeautifulSoup\n",
    "import requests , openpyxl"
   ]
  },
  {
   "cell_type": "code",
   "execution_count": 8,
   "metadata": {},
   "outputs": [],
   "source": [
    "try:\n",
    "    source = requests.get('https://www.imdb.com/chart/top/')\n",
    "    source.raise_for_status()#  will raise error if their is error in website\n",
    "    soup1 = BeautifulSoup(source.text,'html.parser')\n",
    "    soup2 = BeautifulSoup(soup1.prettify(),'html.parser')\n",
    "    movies = soup2.find('tbody',class_ = 'lister-list').find_all('tr')\n",
    "    excel = openpyxl.Workbook()\n",
    "    sheet = excel.active\n",
    "    sheet.title = 'Top Rated Movies'\n",
    "    sheet.append(['Movie Rank','Movie Name','Year_Of_Release','IMDB Rating'])\n",
    "    for movie in movies:\n",
    "        name = movie.find('td',class_=\"titleColumn\").a.text.strip()\n",
    "        rank = movie.find('td',class_=\"titleColumn\").get_text(strip=True).split('.')[0]\n",
    "        year_of_release = movie.find('td',class_=\"titleColumn\").span.text.strip()\n",
    "        rating = movie.find('td',class_=\"ratingColumn imdbRating\").get_text(strip=True)\n",
    "        sheet.append([rank,name,year_of_release,rating])\n",
    "\n",
    "except Exception as e:\n",
    "    print(\"not able to connect to website\")\n",
    "excel.save('IMDB Movie Ratings.xlsx')\n"
   ]
  },
  {
   "cell_type": "code",
   "execution_count": null,
   "metadata": {},
   "outputs": [],
   "source": []
  }
 ],
 "metadata": {
  "interpreter": {
   "hash": "ad2bdc8ecc057115af97d19610ffacc2b4e99fae6737bb82f5d7fb13d2f2c186"
  },
  "kernelspec": {
   "display_name": "Python 3.9.7 ('base')",
   "language": "python",
   "name": "python3"
  },
  "language_info": {
   "codemirror_mode": {
    "name": "ipython",
    "version": 3
   },
   "file_extension": ".py",
   "mimetype": "text/x-python",
   "name": "python",
   "nbconvert_exporter": "python",
   "pygments_lexer": "ipython3",
   "version": "3.9.7"
  },
  "orig_nbformat": 4
 },
 "nbformat": 4,
 "nbformat_minor": 2
}
