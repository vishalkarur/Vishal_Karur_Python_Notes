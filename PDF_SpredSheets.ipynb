{
 "cells": [
  {
   "cell_type": "code",
   "execution_count": 160,
   "metadata": {},
   "outputs": [],
   "source": [
    "import csv"
   ]
  },
  {
   "cell_type": "code",
   "execution_count": 161,
   "metadata": {},
   "outputs": [],
   "source": [
    "# opening excel\n",
    "data = open('data.csv')"
   ]
  },
  {
   "cell_type": "code",
   "execution_count": 162,
   "metadata": {},
   "outputs": [],
   "source": [
    "# calling reader on the data\n",
    "csv_data =  csv.reader(data)"
   ]
  },
  {
   "cell_type": "code",
   "execution_count": 163,
   "metadata": {},
   "outputs": [],
   "source": [
    "data_lines = list(csv_data)"
   ]
  },
  {
   "cell_type": "code",
   "execution_count": 164,
   "metadata": {},
   "outputs": [
    {
     "data": {
      "text/plain": [
       "['Duration', 'Pulse', 'Maxpulse', 'Calories']"
      ]
     },
     "execution_count": 164,
     "metadata": {},
     "output_type": "execute_result"
    }
   ],
   "source": [
    "data_lines[0]"
   ]
  },
  {
   "cell_type": "code",
   "execution_count": 165,
   "metadata": {},
   "outputs": [
    {
     "data": {
      "text/plain": [
       "170"
      ]
     },
     "execution_count": 165,
     "metadata": {},
     "output_type": "execute_result"
    }
   ],
   "source": [
    "len(data_lines)"
   ]
  },
  {
   "cell_type": "code",
   "execution_count": 166,
   "metadata": {},
   "outputs": [
    {
     "name": "stdout",
     "output_type": "stream",
     "text": [
      "['Duration', 'Pulse', 'Maxpulse', 'Calories']\n",
      "['60', '110', '130', '409.1']\n",
      "['60', '117', '145', '479.0']\n",
      "['60', '103', '135', '340.0']\n",
      "['45', '109', '175', '282.4']\n"
     ]
    }
   ],
   "source": [
    "for line in data_lines[0:5]:\n",
    "    print(line)"
   ]
  },
  {
   "cell_type": "markdown",
   "metadata": {},
   "source": [
    "extracting last column values into a new list"
   ]
  },
  {
   "cell_type": "code",
   "execution_count": 167,
   "metadata": {},
   "outputs": [],
   "source": [
    "all_cal_values = []"
   ]
  },
  {
   "cell_type": "code",
   "execution_count": 168,
   "metadata": {},
   "outputs": [],
   "source": [
    "for line in data_lines[1:]:\n",
    "    all_cal_values.append(line[3])"
   ]
  },
  {
   "cell_type": "code",
   "execution_count": 169,
   "metadata": {},
   "outputs": [
    {
     "data": {
      "text/plain": [
       "['60 110',\n",
       " '60 117',\n",
       " '60 103',\n",
       " '45 109',\n",
       " '45 117',\n",
       " '60 102',\n",
       " '60 110',\n",
       " '45 104',\n",
       " '30 109',\n",
       " '60 98',\n",
       " '60 103',\n",
       " '60 100',\n",
       " '60 106',\n",
       " '60 104',\n",
       " '60 98',\n",
       " '60 98',\n",
       " '60 100',\n",
       " '45 90',\n",
       " '60 103',\n",
       " '45 97',\n",
       " '60 108',\n",
       " '45 100',\n",
       " '60 130',\n",
       " '45 105',\n",
       " '60 102',\n",
       " '60 100',\n",
       " '60 92',\n",
       " '60 103',\n",
       " '60 100',\n",
       " '60 102',\n",
       " '60 92',\n",
       " '45 90',\n",
       " '60 101',\n",
       " '60 93',\n",
       " '60 107',\n",
       " '60 114',\n",
       " '60 102',\n",
       " '60 100',\n",
       " '60 100',\n",
       " '45 104',\n",
       " '45 90',\n",
       " '60 98',\n",
       " '60 100',\n",
       " '60 111',\n",
       " '60 111',\n",
       " '60 99',\n",
       " '60 109',\n",
       " '45 111',\n",
       " '45 108',\n",
       " '60 111',\n",
       " '60 107',\n",
       " '80 123',\n",
       " '60 106',\n",
       " '60 118',\n",
       " '30 136',\n",
       " '60 121',\n",
       " '60 118',\n",
       " '45 115',\n",
       " '20 153',\n",
       " '45 123',\n",
       " '210 108',\n",
       " '160 110',\n",
       " '160 109',\n",
       " '45 118',\n",
       " '20 110',\n",
       " '180 90',\n",
       " '150 105',\n",
       " '150 107',\n",
       " '20 106',\n",
       " '300 108',\n",
       " '150 97',\n",
       " '60 109',\n",
       " '90 100',\n",
       " '150 97',\n",
       " '45 114',\n",
       " '90 98',\n",
       " '45 105',\n",
       " '45 110',\n",
       " '120 100',\n",
       " '270 100',\n",
       " '30 159',\n",
       " '45 149',\n",
       " '30 103',\n",
       " '120 100',\n",
       " '45 100',\n",
       " '30 151',\n",
       " '45 102',\n",
       " '120 100',\n",
       " '45 129',\n",
       " '20 83',\n",
       " '180 101',\n",
       " '45 107',\n",
       " '30 90',\n",
       " '15 80',\n",
       " '20 150',\n",
       " '20 151',\n",
       " '30 95',\n",
       " '25 152',\n",
       " '30 109',\n",
       " '90 93',\n",
       " '20 95',\n",
       " '90 90',\n",
       " '90 90',\n",
       " '90 90',\n",
       " '30 92',\n",
       " '30 93',\n",
       " '180 90',\n",
       " '30 90',\n",
       " '90 90',\n",
       " '210 137',\n",
       " '60 102',\n",
       " '45 107',\n",
       " '15 124',\n",
       " '45 100',\n",
       " '60 108',\n",
       " '60 108',\n",
       " '60 116',\n",
       " '60 97',\n",
       " '60 105',\n",
       " '60 103',\n",
       " '30 112',\n",
       " '45 100',\n",
       " '60 119',\n",
       " '60 107',\n",
       " '60 111',\n",
       " '60 98',\n",
       " '60 97',\n",
       " '60 109',\n",
       " '90 99',\n",
       " '60 114',\n",
       " '60 104',\n",
       " '60 107',\n",
       " '60 103',\n",
       " '60 106',\n",
       " '60 103',\n",
       " '20 136',\n",
       " '45 117',\n",
       " '45 115',\n",
       " '45 113',\n",
       " '20 141',\n",
       " '60 108',\n",
       " '60 97',\n",
       " '45 100',\n",
       " '45 122',\n",
       " '60 136',\n",
       " '45 106',\n",
       " '60 107',\n",
       " '60 112',\n",
       " '30 103',\n",
       " '60 110',\n",
       " '60 106',\n",
       " '60 109',\n",
       " '60 109',\n",
       " '30 150',\n",
       " '60 105',\n",
       " '60 111',\n",
       " '60 97',\n",
       " '60 100',\n",
       " '60 114',\n",
       " '30 80',\n",
       " '30 85',\n",
       " '45 90',\n",
       " '45 95',\n",
       " '45 100',\n",
       " '60 105',\n",
       " '60 110',\n",
       " '60 115',\n",
       " '75 120',\n",
       " '75 125']"
      ]
     },
     "execution_count": 169,
     "metadata": {},
     "output_type": "execute_result"
    }
   ],
   "source": [
    "combined_values = []\n",
    "for line in data_lines[1:]:\n",
    "    combined_values.append(line[0] + \" \" + line [ 1] )\n",
    "combined_values\n",
    "\n"
   ]
  },
  {
   "cell_type": "code",
   "execution_count": 170,
   "metadata": {},
   "outputs": [],
   "source": [
    "file_to_output = open ('file_to_be_saved.csv',mode='w',newline='')\n",
    "csv_writer = csv.writer(file_to_output,delimiter= ',')"
   ]
  },
  {
   "cell_type": "code",
   "execution_count": 171,
   "metadata": {},
   "outputs": [
    {
     "data": {
      "text/plain": [
       "9"
      ]
     },
     "execution_count": 171,
     "metadata": {},
     "output_type": "execute_result"
    }
   ],
   "source": [
    "csv_writer.writerow([1,2,3,4])"
   ]
  },
  {
   "cell_type": "code",
   "execution_count": 172,
   "metadata": {},
   "outputs": [],
   "source": [
    "csv_writer.writerows([[1,2,3],[4,5,6],[7,8,9]])"
   ]
  },
  {
   "cell_type": "code",
   "execution_count": 173,
   "metadata": {},
   "outputs": [],
   "source": [
    "file_to_output.close()"
   ]
  },
  {
   "cell_type": "code",
   "execution_count": 174,
   "metadata": {},
   "outputs": [],
   "source": [
    "f = open('file_to_be_saved.csv',mode='a',newline='')"
   ]
  },
  {
   "cell_type": "code",
   "execution_count": 175,
   "metadata": {},
   "outputs": [],
   "source": [
    "csv_writer = csv.writer(f)"
   ]
  },
  {
   "cell_type": "code",
   "execution_count": 176,
   "metadata": {},
   "outputs": [
    {
     "data": {
      "text/plain": [
       "11"
      ]
     },
     "execution_count": 176,
     "metadata": {},
     "output_type": "execute_result"
    }
   ],
   "source": [
    "csv_writer.writerow([1,2,3,4,5])"
   ]
  },
  {
   "cell_type": "code",
   "execution_count": 177,
   "metadata": {},
   "outputs": [],
   "source": [
    "file_to_output.close()"
   ]
  },
  {
   "cell_type": "code",
   "execution_count": 189,
   "metadata": {},
   "outputs": [],
   "source": [
    "import PyPDF2"
   ]
  },
  {
   "cell_type": "code",
   "execution_count": 190,
   "metadata": {},
   "outputs": [],
   "source": [
    "f = open('Publication_Vishal_Karur_Accepted.pdf','rb')"
   ]
  },
  {
   "cell_type": "code",
   "execution_count": 191,
   "metadata": {},
   "outputs": [],
   "source": [
    "pdf_reader = PyPDF2.PdfFileReader(f)"
   ]
  },
  {
   "cell_type": "code",
   "execution_count": 192,
   "metadata": {},
   "outputs": [
    {
     "data": {
      "text/plain": [
       "3"
      ]
     },
     "execution_count": 192,
     "metadata": {},
     "output_type": "execute_result"
    }
   ],
   "source": [
    "pdf_reader.numPages"
   ]
  },
  {
   "cell_type": "code",
   "execution_count": 193,
   "metadata": {},
   "outputs": [],
   "source": [
    "##getting page one\n",
    "page_one = pdf_reader.getPage(0)"
   ]
  },
  {
   "cell_type": "code",
   "execution_count": 194,
   "metadata": {},
   "outputs": [],
   "source": [
    "page_one_text = page_one.extractText()"
   ]
  },
  {
   "cell_type": "code",
   "execution_count": 195,
   "metadata": {},
   "outputs": [],
   "source": [
    "pdf_writer = PyPDF2.PdfFileWriter()"
   ]
  },
  {
   "cell_type": "code",
   "execution_count": 196,
   "metadata": {},
   "outputs": [],
   "source": [
    "pdf_writer.addPage(page_one)"
   ]
  },
  {
   "cell_type": "code",
   "execution_count": 197,
   "metadata": {},
   "outputs": [],
   "source": [
    "pdf_output = open('sample.pdf','wb')"
   ]
  },
  {
   "cell_type": "code",
   "execution_count": 198,
   "metadata": {},
   "outputs": [],
   "source": [
    "pdf_writer.write(pdf_output)"
   ]
  },
  {
   "cell_type": "code",
   "execution_count": 199,
   "metadata": {},
   "outputs": [],
   "source": [
    "f.close()"
   ]
  },
  {
   "cell_type": "code",
   "execution_count": 200,
   "metadata": {},
   "outputs": [],
   "source": [
    "vishal = open('sample.pdf','rb')"
   ]
  },
  {
   "cell_type": "code",
   "execution_count": 201,
   "metadata": {},
   "outputs": [],
   "source": [
    "pdf_reader = PyPDF2.PdfFileReader(vishal)"
   ]
  },
  {
   "cell_type": "code",
   "execution_count": 203,
   "metadata": {},
   "outputs": [],
   "source": [
    "pdf_output = pdf_reader.getPage(0)"
   ]
  },
  {
   "cell_type": "code",
   "execution_count": 204,
   "metadata": {},
   "outputs": [],
   "source": [
    "pdf_output_text = pdf_output.extractText()"
   ]
  },
  {
   "cell_type": "code",
   "execution_count": 207,
   "metadata": {},
   "outputs": [],
   "source": [
    "f = open ('Publication_Vishal_Karur_Accepted.pdf','rb')\n",
    "final_list = []\n",
    "\n",
    "pdf_reader = PyPDF2.PdfFileReader(f)\n",
    "\n",
    "for num in range(pdf_reader.numPages):\n",
    "    page = pdf_reader.getPage(num)\n",
    "    final_list.append(page.extractText())"
   ]
  },
  {
   "cell_type": "code",
   "execution_count": 215,
   "metadata": {},
   "outputs": [
    {
     "name": "stdout",
     "output_type": "stream",
     "text": [
      "  \n",
      " P re dict\n",
      " io n \n",
      " o f   M o bil e  M o del  P rice   us\n",
      " ing   M a ch ine Lea rni ng   T ec hn i qu es\n",
      "  \n",
      "  \n",
      "  \n",
      "  \n",
      " 274\n",
      "  \n",
      " Pu b l i sh e d   By\n",
      " :\n",
      "  \n",
      " Bl\n",
      " u e   E y e s  I n t e l l i g e n c e   E n g i n e e ri n g  \n",
      " a n d   S c i e n c e s P u b l i c a t i o n   ( B EI ES P)\n",
      "  \n",
      " ©  C o p y ri g h t :   Al l   ri g h t s   res e rve d .\n",
      "  \n",
      " Re t r i e v a l   N u m b e r:   1 0 0 . 1 / i j e a t . A\n",
      " 3 2 1 9\n",
      " 1 0 1 1 1 2 1\n",
      "  \n",
      " D O I :   1 0 . 3 5 9 4 0 / i j e a t . A\n",
      " 3 2 1 9\n",
      " .\n",
      " 1 0 1 1\n",
      " 121\n",
      "  \n",
      " J o u rn a l   W e b si t e :  \n",
      " w w w . i j e a t . o r g\n",
      "   \n",
      "  \n",
      " T a ble\n",
      " -\n",
      "  \n",
      " I I :   P rice   pred ict io n Cla s s iifc a t io n.\n",
      "  \n",
      " C o u n t\n",
      "  \n",
      " C a t e g o r y\n",
      "  \n",
      " Le ss  t h a n   1 7 0\n",
      "  \n",
      " V e r y   A f f o r d a b l e .\n",
      "  \n",
      " 1 7 0\n",
      " -\n",
      " 310\n",
      "  \n",
      " A f f o r d a b l e\n",
      "  \n",
      " 3 1 0\n",
      " -\n",
      " 50\n",
      "  \n",
      " Ex p e n si v e\n",
      "  \n",
      " C.\n",
      "  \n",
      " Vis ua lizi ng   O f   Da t a\n",
      "  \n",
      " Data   wo u ld   b e  v is u alize d   with   th e  p r ice  p r ed ictio n  \n",
      " class if icat\n",
      " i\n",
      " o n   m o d el  u s in g   E lb o w  Me th o d .\n",
      "  \n",
      " C o m p le x ity   o f   t h e \n",
      " m o d el  is   r ed u ce d   u s in g   p r in ci p al  v ar iab les.I f   th er e   ar e  h ig h e r  \n",
      " n o   o f   co n s tr ain ts   an d   f ea t u r es  an d   v ar iab les  th er e   wo u ld   b e  \n",
      " m o r e  co m p le x ity   an d   h ar d er   t o   v is u alize   th e  d ata  . s o   if   th e \n",
      " f ea tu r es  ar e\n",
      "  \n",
      " r elate d   we  c\n",
      " o\n",
      " u l d   u s e \n",
      " r e d u ctio n   alg o r ith m s   to  \n",
      " r ed u ce   th e  co m p le x ity .     Featu r es  s elec tio n   is   u s ed   to   s elec t   a  \n",
      " p ar ticu lar   d im e n s io n   a n d   eli m in ate  o th er   f ea tu r es   an d   k e ep  \n",
      " o n ly   f ea tu r es wh ich   g iv e   th e  m o s t sp ec if ic  in f o r m atio n .\n",
      "  \n",
      " E x tr ac tio n   o f   d ataset  is   u s ed   t o   f in d   th e  s p e\n",
      " c\n",
      " if ic  d ataset  an d  \n",
      " f ea tu r es  b y   f o r war d   an d   b ac k w ar d   s elec tio n   in   w h ich   f o r war d  \n",
      " s elec tio n   we  s tar t  with   n o   f ea tu r es th en   we  ad d   th e  im p o r tan t \n",
      " f ea tu r es wh ich   wo u ld   g iv e  o u t   th e  im p o r tan t in f o r m atio n   an d  \n",
      " I n   B ac k war d   Selectio n   we  elim in ate  th e    f ea tu r e  wh ich   d o\n",
      " e\n",
      " s \n",
      " n o t g iv e  a n y   in f o r m atio n   an d   k ee p   o n l y   th e  m ain   f ea tu r es .\n",
      "  \n",
      " D.\n",
      "  \n",
      " Cla s s if ica t io n O f   Da t a\n",
      "  \n",
      " Af ter   th e  d ata  is   v is u alize d ,   th e  m o d el   is   d esig n ed   to   f in d   th e \n",
      " ac cu r ac y   wh er e   it  is   m o d eled   with   n u m b er   o f   c o r r ec t  s am p le s  \n",
      " with   to tal  n u m b er .   C lass if icat io n   is   d o n e  t o   f i\n",
      " n\n",
      " d   th e  co r r ec t  \n",
      " ac cu r ac y   an d   co r r ec t  s am p les  i n s tan ce s .\n",
      "  \n",
      " C las s if icatio n   is   al s o  \n",
      " d o n e  with   p r e d icate d   p r ice  a n d   f ea tu r es  an d   p er ce n tag e  o f  \n",
      " ac cu r ac y   o f   p o s itiv e  s am p les  with   to tal  s am p les.\n",
      "  \n",
      " E.\n",
      "  \n",
      " T esting\n",
      "  \n",
      " W ith   th e  p r ep r o ce s s ed   d ata,   T h e  p r e d ictio n   o f   test   d ata   is  \n",
      " done\n",
      "  \n",
      " with   d if f er e n t  f ea tu r es  wh er e  p r ep r o ce s s ed   d ata  is   s p lit \n",
      " f o r   test in g   an d   tr ain in g   d ataset.   T h e   d ata  s et  is   u s ed   to   f in d   th e\n",
      "  \n",
      " Acc u r ac y   an d   also   th e  p er f o r m an ce   an d   also   th e  p r ed icate d  \n",
      " v alu e  o f   t h e  p r o d u ct.  \n",
      "  \n",
      " III.\n",
      "  \n",
      " RE SU L T\n",
      "  \n",
      "  \n",
      " A.\n",
      "  \n",
      " Usi ng   E l bo w  M et ho d.\n",
      "  \n",
      " T h e  n u m b er   o f\n",
      "  \n",
      " er r o r   r a\n",
      " t\n",
      " es  is   t ak en   in t o   co n s id er atio n   with  \n",
      " K\n",
      "  \n",
      " d ataset  v alu es  . T h e  er r o r   v alu es  is   tak en   in to   co n s id er atio n .  \n",
      " T h e  test   v alu es  ar e  tak en   with   r an g e  o f   p r ed icate d   p r ice  an d  \n",
      " ac cu r ac y   is   ca lcu lated   a n d   th e   f ea tu r es  ar e  s elec ted .   T h e  u n it  \n",
      " m o d u le   ac cu r ac y   is   ca lcu late d   w\n",
      " i\n",
      " th   p o s itiv e  s am p les  with  \n",
      " n eg ativ e  s am p les  th at  is   th e \n",
      " f ailed   n u m b er  \n",
      " th at  is   th e \n",
      " p er ce n tag e  o f   ac cu r ac y .\n",
      "  \n",
      "  \n",
      "  \n",
      " F ig . 1 .   M o del lo s s .  \n",
      " E rr o r  ra t e   v s .   K   v a lue.\n",
      "  \n",
      " B.\n",
      "  \n",
      " Co m pa riso n o f   F ea t ures\n",
      "  \n",
      " T\n",
      " h e  co m p ar is o n   o f   f ea tu r es is   v is u alize d   in to   g r ap h s   an d     th e  \n",
      " p r ed icate d   v alu e \n",
      " is\n",
      "  \n",
      " e\n",
      " s tim ated   a n d   th e  f ea tu r e  is   ex tr ac ted     an d  \n",
      " th e  co m p ar is o n   is   tak en   in to   co n s id er atio n   to   g iv e  o u t  \n",
      " im p o r tan t in f o r m atio n .\n",
      "  \n",
      "  \n",
      "  \n",
      " F ig . 2 .\n",
      " P rice   ra ng e \n",
      " v s .\n",
      "  \n",
      " Ra m Size\n",
      "  \n",
      "  \n",
      "  \n",
      " F ig . 3 .  \n",
      " M em o r y  \n",
      " v s .\n",
      "  \n",
      " P rice   Ra n g e \n",
      "  \n",
      "  \n",
      " I f   th e  cu s t\n",
      " ome\n",
      " r \n",
      " o r   th e  d ev elo p er   wan ts   to   tak e  th e \n",
      " co n s id er atio n   o f   t h e  p r ed icati o n   o f   th e  p r ice  r an g e  a n d   with  \n",
      " o th er   Me m o r y   an d   R am  \n",
      " s ize.   T h e  ac cu r ac y   is   ca lcu lated   b y  \n",
      " co m p ar is o n   o f   f ea tu r es with   Pric e  u s in g   K  m o d el.\n",
      "  \n",
      " I V.\n",
      "  \n",
      " CO NCLUS I O N\n",
      "  \n",
      " T h is   Pro ject  d ea ls   with   th e  p r ed icatio\n",
      " n   o\n",
      " f \n",
      " th e  p r ice  an d   th e  \n",
      " f ea tu r es  o f   th e   m o b ile  . I t  u s es  Featu r e  s elec tio n   to   g iv e  \n",
      " p r ec is e  f ea tu r es  to   b e  s elec te d   an d   g et  m ax im u m   ac cu r ac y  \n",
      " r esu lts .   I f   th er e   is   Fo r war d   s elec tio n   in   th e   d ata  s et  th en   i t \n",
      " r ed u ce s   th e  ac cu r ac y   o f   th e   f ea tu r es  an d     I n   B ac k war d  \n",
      " s\n",
      " ele\n",
      " ct\n",
      " io n ,   if   we  elim in ate  a n   i m p o r tan t  p ar t  th e n   its   ef f icien c y  \n",
      " is   r ed u ce d .\n",
      "  \n",
      " T h is   p r o ject  m o d el  co u ld   b e  im p r o v e d   b y  \n",
      " d ev elo p in g   s o f twar e  th at  co u ld   p r ed ict  b y   s elec tin g   f ea tu r e s  \n",
      " s o   th at  it  co u l d   b e   u s ed   w h ile  lau n ch in g   th e  n ew  p r o d u ct.   I   f  \n",
      " th er e  ar e  m o r\n",
      " e  f ea tu\n",
      " re\n",
      " s   an d   s elec tio n s   ar e  ad d ed   t o   th e  d atase t \n",
      " with   th e  g iv en   r ea l  in s tan ce s   th en   it  wo u ld   b e  m o r e  p r ec is e  \n",
      " an d   ac cu r ate  r esu lt wo u ld   b e  a v ailab le.\n",
      "  \n",
      " RE F E R E NC E S\n",
      "  \n",
      " 1.\n",
      "  \n",
      "\n",
      " p a p e r   t i t l e   a n d   e d i t\n",
      "\n",
      "  \n",
      " in\n",
      "  \n",
      " P l a s t i c s\n",
      " ,   2 n d   e d .   v o l .   3 ,   J.   P e t e r s ,   Ed .     N e w  \n",
      " Y o r k :   M c G r a w\n",
      " -\n",
      " H i l l ,   1 9 6 4 ,   p p .   1 5\n",
      "\n",
      " 6 4 .\n",
      "  \n",
      "  \n",
      "  \n",
      "  \n",
      "  \n",
      "  \n",
      "  \n",
      "\n"
     ]
    }
   ],
   "source": [
    "print(final_list[1])"
   ]
  },
  {
   "cell_type": "code",
   "execution_count": null,
   "metadata": {},
   "outputs": [],
   "source": []
  }
 ],
 "metadata": {
  "interpreter": {
   "hash": "b3ba2566441a7c06988d0923437866b63cedc61552a5af99d1f4fb67d367b25f"
  },
  "kernelspec": {
   "display_name": "Python 3.9.7 ('base')",
   "language": "python",
   "name": "python3"
  },
  "language_info": {
   "codemirror_mode": {
    "name": "ipython",
    "version": 3
   },
   "file_extension": ".py",
   "mimetype": "text/x-python",
   "name": "python",
   "nbconvert_exporter": "python",
   "pygments_lexer": "ipython3",
   "version": "3.9.7"
  },
  "orig_nbformat": 4
 },
 "nbformat": 4,
 "nbformat_minor": 2
}
